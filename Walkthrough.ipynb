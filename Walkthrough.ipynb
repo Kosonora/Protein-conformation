{
  "nbformat": 4,
  "nbformat_minor": 0,
  "metadata": {
    "colab": {
      "provenance": [],
      "gpuType": "T4",
      "include_colab_link": true
    },
    "kernelspec": {
      "name": "python3",
      "display_name": "Python 3"
    },
    "language_info": {
      "name": "python"
    },
    "accelerator": "GPU"
  },
  "cells": [
    {
      "cell_type": "markdown",
      "metadata": {
        "id": "view-in-github",
        "colab_type": "text"
      },
      "source": [
        "<a href=\"https://colab.research.google.com/github/Kosonora/Protein-conformation/blob/main/Walkthrough.ipynb\" target=\"_parent\"><img src=\"https://colab.research.google.com/assets/colab-badge.svg\" alt=\"Open In Colab\"/></a>"
      ]
    },
    {
      "cell_type": "code",
      "source": [
        "#   █████╗ ███████╗███████╗██████╗  ██████╗ ██████╗ ██╗  ██╗\n",
        "#  ██╔══██╗██╔════╝██╔════╝╚════██╗██╔═████╗╚════██╗██║  ██║\n",
        "#  ███████║█████╗  █████╗   █████╔╝██║██╔██║ █████╔╝███████║\n",
        "#  ██╔══██║██╔══╝  ██╔══╝  ██╔═══╝ ████╔╝██║██╔═══╝ ╚════██║\n",
        "#  ██║  ██║██║     ██║     ███████╗╚██████╔╝███████╗     ██║\n",
        "#  ╚═╝  ╚═╝╚═╝     ╚═╝     ╚══════╝ ╚═════╝ ╚══════╝     ╚═╝\n",
        "#\n",
        "#  ┏┓┓  ┓   ┏┓  ┓ ┓┏┓  ╻  ┏┓           •\n",
        "#  ┣┫┃┏┓┣┓┏┓┣ ┏┓┃┏┫┏┛ ━╋━ ┣ ┏┓┓┏┏╋┏┓┏┓╋┓┏┓┏┓\n",
        "#  ┛┗┗┣┛┛┗┗┻┻ ┗┛┗┗┻┗━  ╹  ┻ ┛ ┗┛┛┗┛ ┗┻┗┗┗┛┛┗\n",
        "#     ┛\n",
        "#       Predicting protein conformational motions\n",
        "#  using energetic frustration analysis and AlphaFold2\n",
        "#\n",
        "#\n",
        "#  VERSION Aug-01-2024"
      ],
      "metadata": {
        "id": "fwK_oluD9Uuv"
      },
      "execution_count": 1,
      "outputs": []
    },
    {
      "cell_type": "code",
      "execution_count": 2,
      "metadata": {
        "colab": {
          "base_uri": "https://localhost:8080/"
        },
        "id": "pGhCymwE28eW",
        "outputId": "87edb45f-66d1-4b73-bccc-1afa774c07da"
      },
      "outputs": [
        {
          "output_type": "stream",
          "name": "stdout",
          "text": [
            "Cloning into 'AFF2024'...\n",
            "remote: Enumerating objects: 5058, done.\u001b[K\n",
            "remote: Counting objects: 100% (1575/1575), done.\u001b[K\n",
            "remote: Compressing objects: 100% (576/576), done.\u001b[K\n",
            "remote: Total 5058 (delta 1368), reused 1173 (delta 997), pack-reused 3483 (from 1)\u001b[K\n",
            "Receiving objects: 100% (5058/5058), 168.98 MiB | 26.52 MiB/s, done.\n",
            "Resolving deltas: 100% (3536/3536), done.\n",
            "Updating files: 100% (3850/3850), done.\n"
          ]
        }
      ],
      "source": [
        "# ACCESS\n",
        "repo_url = 'https://github.com/Gxy-with-luv/AFF2024.git'\n",
        "\n",
        "# Clone the repository\n",
        "!git clone {repo_url}"
      ]
    },
    {
      "cell_type": "markdown",
      "source": [
        "问候\n",
        "这是我们的快速演练笔记本。\n",
        "\n",
        "借助此笔记本，可以使用 AdK（以闭合构象为原生状态）的基于物理的挫折信息从 MSA 空间映射挫折能量景观，然后使用高 ΔEHF 区域、掩蔽和混合方法生成替代开放状态。\n",
        "这是最简单的演练。有关所有代码，请参阅我们的 Github 存储库：AFF2024\n",
        "\n",
        "本笔记本的结构如下：\n",
        "问候\n",
        "安装和加载先决条件\n",
        "挫折和能量：计算和加载\n",
        "构建挫折能量景观\n",
        "从低 ΔEHF 区域到高 ΔEHF 区域采样（滑动方法）\n",
        "使用混合方法生成亚稳态（AdK 开放状态）以及构象变化途径\n",
        "使用 HF 位点掩蔽方法生成亚稳态（AdK 开放状态）以及构象变化途径\n",
        "\n",
        "我们的 github 存储库的结构：\n",
        "核心预测部分：\n",
        "使用 Colab 是一种方便的方式来安装和加载与 AF2 相关的模块，而无需环境配置的负担。我们提供了一个笔记本：Main_Prediction.ipynb 来加载和使用 AlphaFold2，从我们自己给出的 MSA 提示中预测结构。\n"
      ],
      "metadata": {
        "id": "FUDGNx7gKRWP"
      }
    },
    {
      "cell_type": "markdown",
      "source": [
        "# Greetings\n",
        "\n",
        "This is our notebook for a quick walkthrough.\n",
        "\n",
        "With this one can get a frustration-energy landscape mapped from the MSA space using physically-based frustration information for AdK (with closed conformation as the native state) and then generate the alternative open state using High $\\Delta E_{HF}$ region, masking and mixing methods.\n",
        "\n",
        "**This is the simplist walkthough. For all codes, please refer to our Github repository: AFF2024**\n",
        "\n",
        "## The structure of this notebook is listed as following:\n",
        "- Greetings\n",
        "- Installing & loading the prerequesites\n",
        "- Frustration and Energy: Calculation and loading\n",
        "- Building **the frustration-energy landscape**\n",
        "- Sampling from low-$\\Delta E_{HF}$ region to high-$\\Delta E_{HF}$ region (**Sliding methods**)\n",
        "- Generating metastable state (AdK open state) and also conformational changing pathway using **mixing methods**\n",
        "- Generating metastable state (AdK open state) and also conformational changing pathway using HF-site **masking methods**\n",
        "\n",
        "\n",
        "\n",
        "## The structure of our github repository:\n",
        "### Core prediction part:\n",
        "\n",
        "Using Colab is a convenient way to install and load AF2-related modules without the burden of configurations for environment. We provide a notebook: `Main_Prediction.ipynb` to load and use AlphaFold2, to predict structures from the MSA hints given by ourselves.\n",
        "\n",
        "### AdK Folder:\n",
        "\n",
        "``` bash\n",
        "AdK # Every sub-folder also contain scripts for analysis and output results\n",
        "├── Frustration-Energy-space # Mapping the MSA space onto the Frustration-Energy surface\n",
        "│  ├── circ50 # Sliding from low dE_{HF} region towards high dE_{HF} region\n",
        "│  ├── circ50higher # Sliding upwards to explore the energy surface learnt by AF2\n",
        "│  ├── sampling400 # Random sampling for structure predictions\n",
        "│  └── ...\n",
        "│\n",
        "├── AdK-erasing # Erasing/Masking highly-frustrated sites pushes the structure towards the open state\n",
        "│  ├── erase_highFrus # top 30 with ratio 0.5, masking the most highly-frustrated sites\n",
        "│  ├── erase_highFrus_various_ratio # Masking the most highly-frustrated sites with various masking ratio\n",
        "│  ├── erase_lowFrus # Minimally-frustrated sites, as a control for comparison.\n",
        "│  ├── erase_lowFrus_various_ratio # Minimally-frustrated sites, as a control for comparison.\n",
        "│  ├── erase_nobreakage # Sites with no breakage during conformational change, as a control for comparison.\n",
        "│  ├── erase_breakage # Sites with breakage during conformational change, as a control for comparison.\n",
        "│  └── ...\n",
        "│\n",
        "├── AdK-mixing # Mixing for generating the conformational-changing pathway\n",
        "│  ├── Mixing100 # Mixing with size of 100 sequences for the Open-state-set\n",
        "│  ├── Mixing50 # Mixing with size of 50 sequences for the Open-state-set\n",
        "│  └── ...\n",
        "│\n",
        "├── AdK-PCA_analysis # Containing PCA analysis for coordinates, distances(strain) and contacts(cracking) respectively\n",
        "│\n",
        "└── SI-AA_simulation # Gromacs setup files and also two output trajectories\n",
        "\n",
        "```\n",
        "\n",
        "\n"
      ],
      "metadata": {
        "id": "XfAwRI_L3YGb"
      }
    },
    {
      "cell_type": "markdown",
      "source": [
        "# Installing & loading the prerequesites\n",
        "might take 2 minutes using T4.\n",
        "(使用 T4 可能需要 2 分钟。)"
      ],
      "metadata": {
        "id": "pa57L8p3_Gaa"
      }
    },
    {
      "cell_type": "code",
      "source": [
        "!mkdir params\n",
        "!curl -fsSL https://storage.googleapis.com/alphafold/alphafold_params_2021-07-14.tar | tar x -C params\n",
        "!git clone https://github.com/deepmind/alphafold.git\n",
        "!pip -q install ml-collections dm-haiku biopython==1.81\n",
        "!pip -q install mdtraj"
      ],
      "metadata": {
        "colab": {
          "base_uri": "https://localhost:8080/"
        },
        "id": "EJJjwU-J_ePa",
        "outputId": "daad7570-26c0-4012-969c-8daf41fae4e7"
      },
      "execution_count": 3,
      "outputs": [
        {
          "output_type": "stream",
          "name": "stdout",
          "text": [
            "Cloning into 'alphafold'...\n",
            "remote: Enumerating objects: 1057, done.\u001b[K\n",
            "remote: Counting objects: 100% (77/77), done.\u001b[K\n",
            "remote: Compressing objects: 100% (50/50), done.\u001b[K\n",
            "remote: Total 1057 (delta 35), reused 27 (delta 27), pack-reused 980 (from 3)\u001b[K\n",
            "Receiving objects: 100% (1057/1057), 16.45 MiB | 26.77 MiB/s, done.\n",
            "Resolving deltas: 100% (619/619), done.\n",
            "\u001b[2K   \u001b[90m━━━━━━━━━━━━━━━━━━━━━━━━━━━━━━━━━━━━━━━━\u001b[0m \u001b[32m3.1/3.1 MB\u001b[0m \u001b[31m55.1 MB/s\u001b[0m eta \u001b[36m0:00:00\u001b[0m\n",
            "\u001b[2K   \u001b[90m━━━━━━━━━━━━━━━━━━━━━━━━━━━━━━━━━━━━━━━━\u001b[0m \u001b[32m76.5/76.5 kB\u001b[0m \u001b[31m6.9 MB/s\u001b[0m eta \u001b[36m0:00:00\u001b[0m\n",
            "\u001b[2K   \u001b[90m━━━━━━━━━━━━━━━━━━━━━━━━━━━━━━━━━━━━━━━━\u001b[0m \u001b[32m373.9/373.9 kB\u001b[0m \u001b[31m30.2 MB/s\u001b[0m eta \u001b[36m0:00:00\u001b[0m\n",
            "\u001b[2K   \u001b[90m━━━━━━━━━━━━━━━━━━━━━━━━━━━━━━━━━━━━━━━━\u001b[0m \u001b[32m7.9/7.9 MB\u001b[0m \u001b[31m70.7 MB/s\u001b[0m eta \u001b[36m0:00:00\u001b[0m\n",
            "\u001b[2K   \u001b[90m━━━━━━━━━━━━━━━━━━━━━━━━━━━━━━━━━━━━━━━━\u001b[0m \u001b[32m9.3/9.3 MB\u001b[0m \u001b[31m106.0 MB/s\u001b[0m eta \u001b[36m0:00:00\u001b[0m\n",
            "\u001b[2K   \u001b[90m━━━━━━━━━━━━━━━━━━━━━━━━━━━━━━━━━━━━━━━━\u001b[0m \u001b[32m1.4/1.4 MB\u001b[0m \u001b[31m64.3 MB/s\u001b[0m eta \u001b[36m0:00:00\u001b[0m\n",
            "\u001b[?25h"
          ]
        }
      ]
    },
    {
      "cell_type": "code",
      "source": [
        "# Loading Modules(加载模块)\n",
        "import numpy as np\n",
        "import matplotlib.pyplot as plt\n",
        "import sys\n",
        "import os\n",
        "import argparse\n",
        "import hashlib\n",
        "import jax\n",
        "import jax.numpy as jnp\n",
        "import re\n",
        "import subprocess\n",
        "from glob import glob\n",
        "sys.path.append('alphafold')\n",
        "from alphafold.model import model, config, data\n",
        "from alphafold.data import parsers, pipeline\n",
        "from alphafold.common import protein\n",
        "\n",
        "# AlphaFold2 Functions(AlphaFold2预测函数)\n",
        "def make_model_runner(model_num=3, recycles=1, deterministic=True):\n",
        "  model_name = 'model_%d_ptm' % model_num\n",
        "  cfg = config.model_config(model_name)\n",
        "\n",
        "  cfg.data.common.num_recycle = recycles\n",
        "  cfg.model.num_recycle = recycles\n",
        "  cfg.data.eval.num_ensemble = 1\n",
        "  if deterministic:\n",
        "    cfg.data.eval.masked_msa_replace_fraction = 0.0\n",
        "    cfg.model.global_config.deterministic = True\n",
        "  params = data.get_model_haiku_params(model_name, '.')\n",
        "\n",
        "  return model.RunModel(cfg, params)\n",
        "\n",
        "def make_processed_feature_dict(runner, a3m_file, name=\"test\", seed=0):\n",
        "  feature_dict = {}\n",
        "\n",
        "  # assumes sequence is first entry in msa\n",
        "  # 假设序列是 msa 中的第一个条目\n",
        "  with open(a3m_file,'r') as msa_fil:\n",
        "    sequence = msa_fil.read().splitlines()[1].strip()\n",
        "\n",
        "  feature_dict.update(pipeline.make_sequence_features(sequence, name, len(sequence)))\n",
        "\n",
        "  with open(a3m_file,'r') as msa_fil:\n",
        "    msa = pipeline.parsers.parse_a3m(msa_fil.read())\n",
        "\n",
        "  feature_dict.update(pipeline.make_msa_features([msa]))\n",
        "  processed_feature_dict = runner.process_features(feature_dict, random_seed=seed)\n",
        "\n",
        "  return processed_feature_dict\n",
        "\n",
        "def parse_results(prediction_result, processed_feature_dict):\n",
        "  b_factors = prediction_result['plddt'][:,None] * prediction_result['structure_module']['final_atom_mask']\n",
        "  dist_bins = jax.numpy.append(0,prediction_result[\"distogram\"][\"bin_edges\"])\n",
        "  dist_mtx = dist_bins[prediction_result[\"distogram\"][\"logits\"].argmax(-1)]\n",
        "  contact_mtx = jax.nn.softmax(prediction_result[\"distogram\"][\"logits\"])[:,:,dist_bins < 8].sum(-1)\n",
        "\n",
        "  out = {\"unrelaxed_protein\": protein.from_prediction(processed_feature_dict, prediction_result, b_factors=b_factors),\n",
        "        \"plddt\": prediction_result['plddt'],\n",
        "        \"pLDDT\": prediction_result['plddt'].mean(),\n",
        "        \"dists\": dist_mtx,\n",
        "        \"adj\": contact_mtx}\n",
        "\n",
        "  out.update({\"pae\": prediction_result['predicted_aligned_error'],\n",
        "              \"pTMscore\": prediction_result['ptm']})\n",
        "  return out\n",
        "\n",
        "def write_results(result, pdb_out_path):\n",
        "  plddt = float(result['pLDDT'])\n",
        "  ptm = float(result[\"pTMscore\"])\n",
        "  print('plddt: %.3f' % plddt)\n",
        "  print('ptm  : %.3f' % ptm)\n",
        "\n",
        "  pdb_lines = protein.to_pdb(result[\"unrelaxed_protein\"])\n",
        "  with open(pdb_out_path, 'w') as f:\n",
        "    f.write(pdb_lines)"
      ],
      "metadata": {
        "id": "VN_eTnryALHx"
      },
      "execution_count": 4,
      "outputs": []
    },
    {
      "cell_type": "markdown",
      "source": [
        "# Frustration and Energy: Calculation and loading\n",
        "\n",
        "Frustration is calculated by Frustratometer web server (`RG Parra, et al., Protein frustratometer 2: a tool to localize energetic frustration in protein molecules, now with electrostatics.\n",
        "Nucleic Acids Res 44, W356-W360 (2016).`) Please refer to our original paper for more details.\n",
        "\n",
        "Energy is calculated by Rosetta (`CA Rohl, CE Strauss, KM Misura, D Baker, Protein structure prediction using rosetta in Methods Enzymol. (Elsevier) Vol. 383, pp.\n",
        "66-93 (2004)`). The calculation scripts are provided in the folder: `Rosetta_scripts/`. And we would recommend running this on a cluster.\n",
        "\n",
        "Now we load frustration informations and energy profiles:"
      ],
      "metadata": {
        "id": "SUXtKciLAkQn"
      }
    },
    {
      "cell_type": "markdown",
      "source": [
        "挫折和能量：计算和加载\n",
        "挫折由 Frustratometer 网络服务器计算（RG Parra 等人，Protein frustratometer 2：一种定位蛋白质分子中能量挫折的工具，现在带有静电。Nucleic Acids Res 44，W356-W360（2016）。）有关更多详细信息，请参阅我们的原始论文。\n",
        "\n",
        "能量由 Rosetta 计算（CA Rohl、CE Strauss、KM Misura、D Baker，Methods Enzymol 中使用 rosetta 进行蛋白质结构预测。（Elsevier）第 383 卷，第 66-93 页（2004））。计算脚本在文件夹中提供：Rosetta_scripts/。我们建议在集群上运行它。\n",
        "\n",
        "现在我们加载挫折信息和能量配置文件："
      ],
      "metadata": {
        "id": "83_WForALmfi"
      }
    },
    {
      "cell_type": "code",
      "source": [
        "# MSA.a3m file --> Sequences\n",
        "def a3m_seq_keep(msafile):\n",
        "    seqs = []\n",
        "    with open(msafile, 'r') as fi:\n",
        "        for line in fi:\n",
        "            if '>' not in line:\n",
        "                seqs.append(line)\n",
        "    alter = seqs[1:]\n",
        "    alter_fin = []\n",
        "    for alt in alter:\n",
        "        seq = []\n",
        "        for i in range(len(alt)):\n",
        "            if alt[i] == '-':\n",
        "                seq.append('-')\n",
        "            else:\n",
        "                seq.append(alt[i])\n",
        "        seq = ''.join(seq)\n",
        "        alter_fin.append(seq)\n",
        "    return alter_fin\n",
        "\n",
        "# Energy Loading\n",
        "# 能量加载\n",
        "#蛋白质FASTA序列\n",
        "natseq = \"MRIILLGAPGAGKGTQAQFIMEKYGIPQISTGDMLRAAVKSGSELGKQAKDIMDAGKLVTDELVIALVKERIAQEDCRNGFLLDGFPRTIPQADAMKEAGINVDYVLEFDVPDELIVDRIVGRRVHAPSGRVYHVKFNPPKVEGKDDVTGEELTTRKDDQEETVRKRLVEYHQMTAPLIGYYSKEAEAGNTKYAKVDGTKPVAEVRADLEKILG\"\n",
        "allseqs = a3m_seq_keep('AFF2024/AdK/Frustration-Energy-space/MSA.a3m')    #MSA文件\n",
        "scores = np.load('AFF2024/AdK/Frustration-Energy-space/ENE_sing.npy')    #能量文件\n",
        "scores = scores.reshape([-1, 214])\n",
        "natscore = np.load('AFF2024/AdK/Frustration-Energy-space/ENE_nat.npy')    #能量文件\n",
        "natscore = natscore.reshape([-1, 214])\n",
        "scores = scores - natscore\n",
        "\n",
        "# Frustration Loading\n",
        "# 加载阻挫\n",
        "filename = 'AFF2024/AdK/Frustration-Energy-space/frustration_configurational_5adens'    #挫折_配置_5adens\n",
        "frustbox = []\n",
        "with open(filename, 'r') as fi:\n",
        "    for line in fi:\n",
        "        if (len(line) > 5) and ('Residue' not in line):\n",
        "            line = line.split()\n",
        "            line = np.array(line[-3:]).astype(np.float32)\n",
        "            frustbox.append(line)\n",
        "\n",
        "frustbox = np.array(frustbox)\n",
        "hif = frustbox[:, 0]\n",
        "lof = frustbox[:, 2]\n"
      ],
      "metadata": {
        "id": "oAbO52-GAd_4"
      },
      "execution_count": 5,
      "outputs": []
    },
    {
      "cell_type": "markdown",
      "source": [
        "# Building the frustration-energy landscape\n",
        "构建挫折能量景观"
      ],
      "metadata": {
        "id": "r3HR5CcwElV-"
      }
    },
    {
      "cell_type": "code",
      "source": [
        "# \\delta E_{HF}\n",
        "hifdot = np.dot(scores, hif)\n",
        "# \\delta E_{T}\n",
        "alldot = np.sum(scores, axis=1)\n",
        "\n",
        "# Visualization(可视化)\n",
        "plt.figure(dpi=100,figsize=(4,3))\n",
        "plt.scatter(hifdot, alldot, s=3)\n",
        "plt.xlabel('dEhf', fontsize=16)\n",
        "plt.ylabel('dEt', fontsize=16)\n",
        "plt.show()"
      ],
      "metadata": {
        "colab": {
          "base_uri": "https://localhost:8080/",
          "height": 318
        },
        "id": "dEd2jDUkERPr",
        "outputId": "743d1ad5-aed4-40e7-da02-d1b674fe7771"
      },
      "execution_count": 6,
      "outputs": [
        {
          "output_type": "display_data",
          "data": {
            "text/plain": [
              "<Figure size 400x300 with 1 Axes>"
            ],
            "image/png": "[encoded data removed]"
          },
          "metadata": {}
        }
      ]
    },
    {
      "cell_type": "markdown",
      "source": [
        "# Sampling from low-$\\Delta E_{HF}$ region to high-$\\Delta E_{HF}$ region (Sliding methods)\n",
        "\n",
        "从低 ΔEHF 区域到高 ΔEHF 区域采样（滑动方法）"
      ],
      "metadata": {
        "id": "AdPAU1HpE7Ko"
      }
    },
    {
      "cell_type": "code",
      "source": [
        "# If you would like to generate MSA-hints by yourself.\n",
        "# You can also use the pre-geenrated MSA-hints.\n",
        "# 如果您想自己生成 MSA 提示。\n",
        "# 您也可以使用预先生成的 MSA 提示。\n",
        "!mkdir self_generate    #MSA序列文件\n",
        "!mkdir self_generate/circ50\n",
        "!mkdir self_generate/circ50higher\n",
        "!mkdir self_generate/sampling400"
      ],
      "metadata": {
        "id": "5dEAy19ZF0N-"
      },
      "execution_count": 7,
      "outputs": []
    },
    {
      "cell_type": "code",
      "source": [
        "# To select sequences around a dot (dE_HF, dE_T)\n",
        "# 选择点周围的序列（dE_HF，dE_T）\n",
        "def a_given_point(x, y):\n",
        "    dis = [np.sqrt(7.7**2*(hifdot[i]-x)**2 + (alldot[i]-y)**2)\n",
        "           for i in range(len(alldot))]\n",
        "    sorted_indices = np.argsort(dis)\n",
        "    idx = sorted_indices[:50]\n",
        "    return(idx)\n",
        "\n",
        "# To get the minimal distance from the sequences to a chosen dot (dE_HF, dE_T)\n",
        "# 获取从序列到选定点的最小距离 (dE_HF, dE_T)\n",
        "def a_given_point_min(x, y):\n",
        "    # To be used to see whether a sampling is successful in [Random sampling 400 times]\n",
        "    # 用于判断采样是否成功[随机采样400次]\n",
        "    dis = [np.sqrt(7.7**2*(hifdot[i]-x)**2 + (alldot[i]-y)**2)\n",
        "           for i in range(len(alldot))]\n",
        "    sorted_indices = np.argsort(dis)\n",
        "    return(min(dis))\n",
        "\n",
        "# Sliding Results (dEhf_dEt)\n",
        "# This is Fig3C\n",
        "# 滑动结果 (dEhf_dEt)\n",
        "# #############################################\n",
        "for i in range(40):\n",
        "    num = i/2-5\n",
        "    idx = a_given_point(num, 0)\n",
        "    with open('self_generate/circ50/circ'+str(i)+'.a3m', 'w') as fo:\n",
        "        fo.write('>101\\n')\n",
        "        fo.write(\"MRIILLGAPGAGKGTQAQFIMEKYGIPQISTGDMLRAAVKSGSELGKQAKDIMDAGKLVTDELVIALVKERIAQEDCRNGFLLDGFPRTIPQADAMKEAGINVDYVLEFDVPDELIVDRIVGRRVHAPSGRVYHVKFNPPKVEGKDDVTGEELTTRKDDQEETVRKRLVEYHQMTAPLIGYYSKEAEAGNTKYAKVDGTKPVAEVRADLEKILG\\n\")\n",
        "        count = 0\n",
        "        for j in idx:\n",
        "            fo.write('>'+str(count)+'\\n')\n",
        "            fo.write(allseqs[j])\n",
        "# #############################################\n",
        "\n",
        "# Additional Examples!\n",
        "# Random sampling Results upon Higher dEt\n",
        "# This is Fig5A\n",
        "# 其他示例！\n",
        "# 更高 dEt 的随机抽样结果\n",
        "# 这是图 5A\n",
        "# #############################################\n",
        "for ene_all in [20, 30, 40, 50, 60, 70, 80, 90, 100, 110]:\n",
        "    idxbox = [i for i in range(len(alldot)) if np.abs(\n",
        "        alldot[i]-ene_all) < 10 and hifdot[i] > 0]\n",
        "    for i in range(30):\n",
        "        idx = np.random.choice(idxbox, size=50, replace=False)\n",
        "        with open('self_generate/circ50higher/circ'+str(ene_all)+'_'+str(i)+'.a3m', 'w') as fo:\n",
        "            fo.write('>101\\n')\n",
        "            fo.write(\"MRIILLGAPGAGKGTQAQFIMEKYGIPQISTGDMLRAAVKSGSELGKQAKDIMDAGKLVTDELVIALVKERIAQEDCRNGFLLDGFPRTIPQADAMKEAGINVDYVLEFDVPDELIVDRIVGRRVHAPSGRVYHVKFNPPKVEGKDDVTGEELTTRKDDQEETVRKRLVEYHQMTAPLIGYYSKEAEAGNTKYAKVDGTKPVAEVRADLEKILG\\n\")\n",
        "            count = 0\n",
        "            for j in idx:\n",
        "                fo.write('>'+str(count)+'\\n')\n",
        "                fo.write(allseqs[j])\n",
        "                count += 1\n",
        "# #############################################\n",
        "\n",
        "# Additional Examples!\n",
        "# Random sampling 400 times\n",
        "# This is Fig2E\n",
        "# 附加示例！\n",
        "# 随机抽样 400 次\n",
        "# 这是图 2E\n",
        "# #############################################\n",
        "boxxy = []\n",
        "for i in range(400):\n",
        "    ifsuccess = False\n",
        "    while ifsuccess == False:\n",
        "        x = np.random.random()*27-7\n",
        "        y = np.random.random()*150-20\n",
        "        if a_given_point_min(x, y) < 2:\n",
        "            ifsuccess = True\n",
        "            boxxy.append([x, y])\n",
        "        idxs = a_given_point(x, y)\n",
        "        with open('self_generate/sampling400/samp'+str(i)+'.a3m', 'w') as fo:\n",
        "            fo.write('>101\\n')\n",
        "            fo.write(\"MRIILLGAPGAGKGTQAQFIMEKYGIPQISTGDMLRAAVKSGSELGKQAKDIMDAGKLVTDELVIALVKERIAQEDCRNGFLLDGFPRTIPQADAMKEAGINVDYVLEFDVPDELIVDRIVGRRVHAPSGRVYHVKFNPPKVEGKDDVTGEELTTRKDDQEETVRKRLVEYHQMTAPLIGYYSKEAEAGNTKYAKVDGTKPVAEVRADLEKILG\\n\")\n",
        "            count = 0\n",
        "            for j in idxs:\n",
        "                fo.write('>'+str(count)+'\\n')\n",
        "                fo.write(allseqs[j])\n",
        "                count += 1\n",
        "# #############################################"
      ],
      "metadata": {
        "id": "fW3BIBOZEuiP"
      },
      "execution_count": 8,
      "outputs": []
    },
    {
      "cell_type": "markdown",
      "source": [
        "### AF2 Predictions\n",
        "Consuming about 1-2 minutes per prediction using the default T4.\n",
        "\n",
        "使用默认的 T4，每次预测大约需要 1-2 分钟。"
      ],
      "metadata": {
        "id": "1pS3arw4I3W2"
      }
    },
    {
      "cell_type": "code",
      "source": [
        "# Running Predictions\n",
        "# Time consuming. You can continue with our pre-generated data.\n",
        "# 运行预测\n",
        "# 耗时。您可以继续使用我们预先生成的数据\n",
        "!mkdir predicted\n",
        "n_recycles = 3\n",
        "model_number = 3\n",
        "seed=0\n",
        "runner = make_model_runner(model_num=model_number, recycles=n_recycles)\n",
        "# Please change to the dir you would like to run\n",
        "# 请更改为您想要运行的MSA目录\n",
        "MSA_hints = glob('AFF2024/AdK/Frustration-Energy-space/circ50/*.a3m')    #MSA数据\n",
        "count=0\n",
        "\n",
        "for fil in MSA_hints:\n",
        "  if os.path.exists('./predicted/'+ os.path.basename(fil).replace('.a3m','.pdb'))== False:\n",
        "    features = make_processed_feature_dict(runner, fil, seed=seed)\n",
        "    result = parse_results(runner.predict(features, random_seed=seed), features)\n",
        "    pae = np.array(result['pae'])\n",
        "    np.save('predicted/pae_' + os.path.basename(fil).replace('.a3m','_0.npy'), pae)\n",
        "    write_results(result, 'predicted/' + os.path.basename(fil).replace('.a3m','.pdb'))\n",
        "    count += 1\n",
        "\n",
        "print('finished count:'+str(count))"
      ],
      "metadata": {
        "id": "e60xT468IBkT"
      },
      "execution_count": null,
      "outputs": []
    },
    {
      "cell_type": "markdown",
      "source": [
        "### Results Analysis"
      ],
      "metadata": {
        "id": "OdAUz8naJCce"
      }
    },
    {
      "cell_type": "code",
      "source": [
        "# Example: Sliding Results (dEhf_dEt) Fig3C\n",
        "# 示例：滑动结果 (dEhf_dEt) 图 3C\n",
        "import mdtraj as md\n",
        "\n",
        "allbox1 = []\n",
        "allbox2 = []\n",
        "allpdb = []\n",
        "hist = []\n",
        "\n",
        "# Please replace the pdbdir and numbers with corresponding name and value.\n",
        "# 请用相应的名称和值替换 pdbdir 和数字。\n",
        "pdbdir = 'AFF2024/AdK/Frustration-Energy-space/Predicted_results/circ50_results/'   #预测结果PDB文件\n",
        "bigbox = []\n",
        "openpdb = md.load_pdb('AFF2024/AdK/Frustration-Energy-space/openCA.pdb')    #预测结果PDB文件\n",
        "closedpdb = md.load_pdb('AFF2024/AdK/Frustration-Energy-space/closedCA.pdb')    #预测结果PDB文件\n",
        "for roll in [0]:\n",
        "    box1 = []\n",
        "    box2 = []\n",
        "    for num in np.arange(40):\n",
        "        num = str(num)\n",
        "        pdbfile = pdbdir + 'circ'+str(num)+ '.pdb'\n",
        "        pdb = md.load_pdb(pdbfile)\n",
        "        allpdb.append(pdb)\n",
        "        atoms = pdb.top.select('name CA')\n",
        "        pdb = pdb.atom_slice(atoms)\n",
        "        pdb.superpose(openpdb, 0)\n",
        "        d1 = md.rmsd(pdb, openpdb)\n",
        "        pdb.superpose(closedpdb, 0)\n",
        "        d2 = md.rmsd(pdb, closedpdb)\n",
        "        box1.append(d1[0])\n",
        "        box2.append(d2[0])\n",
        "    allbox1.extend(box1)\n",
        "    allbox2.extend(box2)\n",
        "\n",
        "# Visualization, with colorbar showing the values of dE_HF\n",
        "# 可视化，用颜色条显示 dE_HF 的值\n",
        "plt.figure(dpi=100,figsize=(4,3))\n",
        "plt.scatter(allbox1, allbox2, c=np.arange(len(allbox1))/2-5, cmap='rainbow')\n",
        "plt.xlabel('RMSD-O', fontsize=16)\n",
        "plt.ylabel('RMSD-C', fontsize=16)\n",
        "plt.colorbar()\n",
        "plt.show()"
      ],
      "metadata": {
        "id": "zFid5b4JJEj1",
        "colab": {
          "base_uri": "https://localhost:8080/",
          "height": 317
        },
        "outputId": "e149db8f-e520-48ec-e36d-eb73526956b3"
      },
      "execution_count": 10,
      "outputs": [
        {
          "output_type": "display_data",
          "data": {
            "text/plain": [
              "<Figure size 400x300 with 2 Axes>"
            ],
            "image/png": "[encoded data removed]"
          },
          "metadata": {}
        }
      ]
    },
    {
      "cell_type": "code",
      "source": [
        "# Additional Examples!\n",
        "# Examples: 400 samplings\n",
        "# 更多示例！\n",
        "# 示例：400 个样本\n",
        "boxxy = []\n",
        "rmsd = []\n",
        "closedpdb = md.load_pdb('AFF2024/AdK/Frustration-Energy-space/closedCA.pdb')    #预测结果PDB文件\n",
        "openpdb = md.load_pdb('AFF2024/AdK/Frustration-Energy-space/openCA.pdb')    #预测结果PDB文件\n",
        "\n",
        "for roll in range(0,400):\n",
        "    a3m = 'AFF2024/AdK/Frustration-Energy-space/sampling400/samp'+str(roll)+'.a3m'\n",
        "    seqs = a3m_seq_keep(a3m)\n",
        "    idxs = [allseqs.index(i) for i in seqs]\n",
        "    x = np.mean(hifdot[idxs])\n",
        "    y = np.mean(alldot[idxs])\n",
        "    boxxy.append([x,y])\n",
        "    pdb = 'AFF2024/AdK/Frustration-Energy-space/Predicted_results/sampling400_results/samp'+str(roll)+'.pdb'\n",
        "    pdb = md.load_pdb(pdb)\n",
        "    pdb = pdb.atom_slice(pdb.top.select('name CA'))\n",
        "    rmsdc = md.rmsd(pdb, closedpdb)[0]\n",
        "    rmsdo = md.rmsd(pdb, openpdb)[0]\n",
        "    rmsd.append([rmsdc, rmsdo])\n",
        "\n",
        "boxxy = np.array(boxxy)\n",
        "rmsd = np.array(rmsd)\n",
        "\n",
        "# Visualization with the color refering to RMSD-O\n",
        "# 可视化颜色参考 RMSD-O\n",
        "plt.figure(dpi=100, figsize=(4,3))\n",
        "plt.scatter(hifdot, alldot, s=6, c='gray', alpha=0.1, marker='o')\n",
        "plt.scatter(boxxy[:, 0], boxxy[:, 1], c=rmsd[:, 1], s=10, vmin=0.15, vmax=0.6)\n",
        "plt.colorbar()\n",
        "plt.ylim(-30,150)\n",
        "plt.xlabel('HiF_Energy')\n",
        "plt.ylabel('Total_Energy')"
      ],
      "metadata": {
        "id": "J4bS6do7Ko4E",
        "colab": {
          "base_uri": "https://localhost:8080/",
          "height": 333
        },
        "outputId": "6bc7ddf6-fbf6-4c5c-990f-db715c7d5cba"
      },
      "execution_count": 11,
      "outputs": [
        {
          "output_type": "execute_result",
          "data": {
            "text/plain": [
              "Text(0, 0.5, 'Total_Energy')"
            ]
          },
          "metadata": {},
          "execution_count": 11
        },
        {
          "output_type": "display_data",
          "data": {
            "text/plain": [
              "<Figure size 400x300 with 2 Axes>"
            ],
            "image/png": "[encoded data removed]"
          },
          "metadata": {}
        }
      ]
    },
    {
      "cell_type": "markdown",
      "source": [
        "# Generating metastable state (AdK open state) and also conformational changing pathway using mixing methods\n",
        "\n",
        "1. Closed MSA Hints with low d_E_{HF} values (size 500) vs. Open MSA Hints with high d_E_{HF} values (size 50) --> Mixing50, w: 0.01~0.4; (since size 500 is a large values, w=0.4 is already big enough to see fully closed structures.)\n",
        "\n",
        "2. Closed MSA Hints with low d_E_{HF} values (size 500) vs. Open MSA Hints with high d_E_{HF} values (size 100) --> Mixing100, w: 0.01~0.09; (since size 500 is a large values, plus adding the MSA set size would bias the closed state, w=0.09 is already big enough to see fully closed structures.)"
      ],
      "metadata": {
        "id": "BzN5hWzuTsHu"
      }
    },
    {
      "cell_type": "markdown",
      "source": [
        "d_E_{HF} 值较低的封闭 MSA 提示（大小 500）与 d_E_{HF} 值较高的开放 MSA 提示（大小 50）--> Mixing50，w：0.01~0.4；（由于大小 500 是一个较大的值，w=0.4 已经足够大，可以看到完全封闭的结构。）"
      ],
      "metadata": {
        "id": "qW74NgrhPzoN"
      }
    },
    {
      "cell_type": "code",
      "source": [
        "# Mixing Function\n",
        "def mix_msa(msafile1, msafile2, ratio):\n",
        "    seq1 = a3m_seq_keep(msafile1)\n",
        "    seq2 = a3m_seq_keep(msafile2)\n",
        "    np.random.shuffle(seq1)\n",
        "    np.random.shuffle(seq2)\n",
        "    N1 = len(seq1)\n",
        "    N2 = len(seq2)\n",
        "    seq1 = seq1[:int(N1*ratio)]\n",
        "    seq2 = seq2[:N2 - int(N2*ratio)]\n",
        "    seq1.extend(seq2)\n",
        "    np.random.shuffle(seq1)\n",
        "    return(seq1)\n",
        "\n",
        "# Chosen Sequences to Output MSA Hints\n",
        "# 选择序列输出 MSA 提示\n",
        "def seq_to_a3m(seq, outfile):\n",
        "    with open(outfile, 'w') as fo:\n",
        "        natseq = \"MRIILLGAPGAGKGTQAQFIMEKYGIPQISTGDMLRAAVKSGSELGKQAKDIMDAGKLVTDELVIALVKERIAQEDCRNGFLLDGFPRTIPQADAMKEAGINVDYVLEFDVPDELIVDRIVGRRVHAPSGRVYHVKFNPPKVEGKDDVTGEELTTRKDDQEETVRKRLVEYHQMTAPLIGYYSKEAEAGNTKYAKVDGTKPVAEVRADLEKILG\"  # Example sequence\n",
        "        fo.write('>101\\n')\n",
        "        fo.write(natseq+'\\n')\n",
        "        for i in range(len(seq)):\n",
        "            fo.write('>'+str(i)+'\\n')\n",
        "            fo.write(seq[i])\n",
        "\n",
        "\n",
        "\n",
        "!mkdir self_generate/Mixing50\n",
        "!mkdir self_generate/Mixing100\n",
        "\n",
        "# 1. Mixing 50\n",
        "msafile1 = 'AFF2024/AdK/AdK-mixing/Closed500.a3m'    #MSA文件\n",
        "msafile2 = 'AFF2024/AdK/AdK-mixing/Open50.a3m'    #MSA文件\n",
        "for ratio in [0.01, 0.02, 0.03, 0.04, 0.05, 0.06, 0.07, 0.08, 0.09,\n",
        "    0.1, 0.2, 0.3, 0.4]:\n",
        "    for roll in range(10):\n",
        "        seq = mix_msa(msafile1, msafile2, ratio)\n",
        "        outfile = 'self_generate/Mixing50/mix'+str(round(ratio, 3))+'_'+str(roll)+'.a3m'\n",
        "        seq_to_a3m(seq, outfile)\n",
        "\n",
        "# 2. Mixing 100\n",
        "msafile1 = 'AFF2024/AdK/AdK-mixing/Closed500.a3m'    #MSA文件\n",
        "msafile2 = 'AFF2024/AdK/AdK-mixing/Open100.a3m'    #MSA文件\n",
        "for ratio in [0.01, 0.02, 0.03, 0.04, 0.05, 0.06, 0.07, 0.08, 0.09]:\n",
        "    for roll in range(10):\n",
        "        seq = mix_msa(msafile1, msafile2, ratio)\n",
        "        outfile = 'self_generate/Mixing100/mix'+str(round(ratio, 3))+'_'+str(roll)+'.a3m'\n",
        "        seq_to_a3m(seq, outfile)"
      ],
      "metadata": {
        "id": "otpWeN0ZTrXt",
        "colab": {
          "base_uri": "https://localhost:8080/"
        },
        "outputId": "bf917364-b0d4-4895-dcae-b647c6732d34"
      },
      "execution_count": 15,
      "outputs": [
        {
          "output_type": "stream",
          "name": "stdout",
          "text": [
            "mkdir: cannot create directory ‘self_generate/Mixing50’: File exists\n",
            "mkdir: cannot create directory ‘self_generate/Mixing100’: File exists\n"
          ]
        }
      ]
    },
    {
      "cell_type": "markdown",
      "source": [
        "### AF2 Predictions"
      ],
      "metadata": {
        "id": "yexbNFQjWw2T"
      }
    },
    {
      "cell_type": "code",
      "source": [
        "# Running Predictions\n",
        "# Time consuming. You can continue with our pre-generated data.\n",
        "# 运行预测\n",
        "# 耗时。您可以继续使用我们预先生成的数据。\n",
        "n_recycles = 3\n",
        "model_number = 3\n",
        "seed=0\n",
        "runner = make_model_runner(model_num=model_number, recycles=n_recycles)\n",
        "# Please change to the dir you would like to run\n",
        "# 请更改为您想要运行的目录\n",
        "MSA_hints = glob('AFF2024/AdK/AdK-mixing/Mixing100/*.a3m')    #MSA文件\n",
        "count=0\n",
        "\n",
        "for fil in MSA_hints:\n",
        "  if os.path.exists('./predicted/'+ os.path.basename(fil).replace('.a3m','.pdb'))== False:\n",
        "    features = make_processed_feature_dict(runner, fil, seed=seed)\n",
        "    result = parse_results(runner.predict(features, random_seed=seed), features)\n",
        "    pae = np.array(result['pae'])\n",
        "    np.save('predicted/pae_' + os.path.basename(fil).replace('.a3m','_0.npy'), pae)\n",
        "    write_results(result, 'predicted/' + os.path.basename(fil).replace('.a3m','.pdb'))\n",
        "    count += 1\n",
        "\n",
        "print('finished count:'+str(count))"
      ],
      "metadata": {
        "id": "wEvPoQlEWv9W"
      },
      "execution_count": null,
      "outputs": []
    },
    {
      "cell_type": "markdown",
      "source": [
        "### Results Analysis"
      ],
      "metadata": {
        "id": "spdq45zAXuHt"
      }
    },
    {
      "cell_type": "code",
      "source": [
        "# Now we use angles for visualizing the conformational changing pathway.\n",
        "# If you would like to view the resulting RMSDs, please use the same way as\n",
        "# \"Sampling from low-dE_HF  region to high-dE_HF  region (Sliding methods\" - \"Results Analysis\"\n",
        "# First we merge the generated structrues (PDBs) into a single trajectory\n",
        "# 现在我们使用角度来可视化构象变化途径。\n",
        "# 如果您想查看结果的 RMSD，请使用与\n",
        "# “从低 dE_HF 区域到高 dE_HF 区域的采样（滑动方法）-“结果分析”相同的方式\n",
        "# 首先，我们将生成的结构（PDB）合并为单个轨迹\n",
        "def merge_pdb_files(directory):\n",
        "    # List to store individual trajectories\n",
        "    # 列表存储单个轨迹\n",
        "    traj_list = []\n",
        "    # Iterate over all files in the directory\n",
        "    # 遍历目录中的所有文件\n",
        "    for filename in sorted(os.listdir(directory)):\n",
        "        if filename.endswith('.pdb'):\n",
        "            # Load each PDB file and append to the traj_list\n",
        "            # 加载每个 PDB 文件并附加到 traj_list\n",
        "            filepath = os.path.join(directory, filename)\n",
        "            traj = md.load(filepath)\n",
        "            traj_list.append(traj)\n",
        "    # Concatenate all trajectories into a single trajectory\n",
        "    # 将所有轨迹连接成一条轨迹\n",
        "    if traj_list:\n",
        "        combined_traj = md.join(traj_list)\n",
        "        return combined_traj\n",
        "    else:\n",
        "        raise ValueError(\"No PDB files found in the directory\")\n",
        "\n",
        "\n",
        "def get_angle_lst(directory):\n",
        "  traj = merge_pdb_files(directory)\n",
        "  # Definition of Angles\n",
        "  # 角度的定义\n",
        "  CAs = traj.top.select('name CA')\n",
        "  corelid = [i for i in traj.top.select('resid >= 114') if i in traj.top.select('resid <= 124')]\n",
        "  corelid = [i for i in corelid if i in CAs]\n",
        "  core = [i for i in traj.top.select('resid >= 89') if i in traj.top.select('resid <= 99')]\n",
        "  core = [i for i in core if i in CAs]\n",
        "  nmp = [i for i in traj.top.select('resid >= 34') if i in traj.top.select('resid <= 54')]\n",
        "  nmp = [i for i in nmp if i in CAs]\n",
        "  core2 = [i for i in traj.top.select('resid >= 178') if i in traj.top.select('resid <= 184')]\n",
        "  core2 = [i for i in core2 if i in CAs]\n",
        "  lid = [i for i in traj.top.select('resid >= 124') if i in traj.top.select('resid <= 152')]\n",
        "  lid = [i for i in lid if i in CAs]\n",
        "  corelidxyz = np.mean(np.array([traj.xyz[:,i,:] for i in corelid]), axis=0)\n",
        "  corexyz = np.mean(np.array([traj.xyz[:,i,:] for i in core]), axis=0)\n",
        "  core2xyz = np.mean(np.array([traj.xyz[:,i,:] for i in core2]), axis=0)\n",
        "  nmpxyz = np.mean(np.array([traj.xyz[:,i,:] for i in nmp]), axis=0)\n",
        "  lidxyz = np.mean(np.array([traj.xyz[:,i,:] for i in lid]), axis=0)\n",
        "\n",
        "  # Calculation of Angles\n",
        "  # 角度计算\n",
        "  ang1s = []\n",
        "  ang2s = []\n",
        "  for frame in range(len(traj)):\n",
        "      corelid_core = np.linalg.norm(corelidxyz[frame] - corexyz[frame])\n",
        "      core_nmp = np.linalg.norm(nmpxyz[frame] - corexyz[frame])\n",
        "      corelid_nmp = np.linalg.norm(corelidxyz[frame] - nmpxyz[frame])\n",
        "\n",
        "      core2_corelid = np.linalg.norm(core2xyz[frame] - corelidxyz[frame])\n",
        "      corelid_lid = np.linalg.norm(corelidxyz[frame] - lidxyz[frame])\n",
        "      core2_lid = np.linalg.norm(core2xyz[frame] - lidxyz[frame])\n",
        "\n",
        "      ang1 = np.arccos((corelid_core**2 + core_nmp**2 - corelid_nmp**2)/2/corelid_core/core_nmp)/np.pi*180\n",
        "      ang2 = np.arccos((core2_corelid**2 + corelid_lid **2 - core2_lid**2)/2/core2_corelid/corelid_lid)/np.pi*180\n",
        "\n",
        "      ang1s.append(ang1)\n",
        "      ang2s.append(ang2)\n",
        "  return ang1s, ang2s\n",
        "\n",
        "directory = 'AFF2024/AdK/AdK-mixing/Mixing50_results/'    #混合结果文件\n",
        "ang1s_50, ang2s_50 = get_angle_lst(directory)\n",
        "directory = 'AFF2024/AdK/AdK-mixing/Mixing100_results/'    #混合结果文件\n",
        "ang1s_100, ang2s_100 = get_angle_lst(directory)\n",
        "\n",
        "# Visualization\n",
        "# 可视化\n",
        "\n",
        "plt.figure(dpi=100, figsize=(4,4))\n",
        "plt.scatter(ang1s_50, ang2s_50, c='navy', alpha=0.4, marker='o')\n",
        "plt.scatter(ang1s_100, ang2s_100, c='orange', alpha=0.4, marker='o')\n",
        "plt.xlabel('Angle Core-NMP', fontsize=16)\n",
        "plt.ylabel('Angle Core-LID', fontsize=16)\n",
        "plt.show()"
      ],
      "metadata": {
        "colab": {
          "base_uri": "https://localhost:8080/",
          "height": 394
        },
        "id": "M7wr8Ck_X05t",
        "outputId": "a30938b6-b1ae-4363-e976-1ddf9e39b6c5"
      },
      "execution_count": 16,
      "outputs": [
        {
          "output_type": "display_data",
          "data": {
            "text/plain": [
              "<Figure size 400x400 with 1 Axes>"
            ],
            "image/png": "[encoded data removed]"
          },
          "metadata": {}
        }
      ]
    },
    {
      "cell_type": "markdown",
      "source": [
        "# Generating metastable state (AdK open state) and also conformational changing pathway using HF-site masking methods\n",
        "Here we show the results of masking the top 30 HF/MF sites with ratio=0.5.\n",
        "\n",
        "这里我们展示了以比例=0.5 屏蔽前 30 个 HF/MF 站点的结果。"
      ],
      "metadata": {
        "id": "0vOuT_m5Zu_U"
      }
    },
    {
      "cell_type": "code",
      "source": [
        "# Masking the top 30 HF sites with ratio=0.5\n",
        "# 以比例=0.5 屏蔽前 30 个 HF 站点\n",
        "!mkdir self_generate/erase_highFrus\n",
        "!mkdir self_generate/erase_lowFrus\n",
        "sorted_indices = np.argsort(hif)[::-1]\n",
        "msafile = 'AFF2024/AdK/AdK-erasing/original50.a3m'    #MSA文件\n",
        "for ratio in [0.5]: # Change this into 0.1~0.9 to reproduce erase_highFrus_various_ratio\n",
        "    for roll in np.arange(80):\n",
        "        lst = sorted_indices[:30]\n",
        "        ratio = round(ratio,1)\n",
        "        newseqs = []\n",
        "        seqs = a3m_seq_keep(msafile)\n",
        "        for seq in seqs:\n",
        "            dice = np.random.random()\n",
        "            if dice < ratio:\n",
        "                seq = list(seq)\n",
        "                for bar in lst:\n",
        "                    seq[bar] = '-'\n",
        "                seq = ''.join(seq)\n",
        "            newseqs.append(seq)\n",
        "        with open('self_generate/erase_highFrus/erase'+str(ratio)+'_'+str(roll)+'.a3m', 'w') as fo:\n",
        "            fo.write('>101\\n')\n",
        "            fo.write('MRIILLGAPGAGKGTQAQFIMEKYGIPQISTGDMLRAAVKSGSELGKQAKDIMDAGKLVTDELVIALVKERIAQEDCRNGFLLDGFPRTIPQADAMKEAGINVDYVLEFDVPDELIVDRIVGRRVHAPSGRVYHVKFNPPKVEGKDDVTGEELTTRKDDQEETVRKRLVEYHQMTAPLIGYYSKEAEAGNTKYAKVDGTKPVAEVRADLEKILG\\n')\n",
        "            for seq in range(len(newseqs)):\n",
        "                fo.write('>'+str(seq)+'\\n')\n",
        "                fo.write(newseqs[seq])\n",
        "\n",
        "# Masking the top 30 MF sites with ratio=0.5\n",
        "# 以比例 0.5 屏蔽排名前 30 的 MF 站点\n",
        "sorted_indices = np.argsort(lof)[::-1]\n",
        "for ratio in [0.5]: # Change this into 0.1~0.9 to reproduce erase_lowFrus_various_ratio\n",
        "    for roll in np.arange(80):\n",
        "        lst = sorted_indices[:30]\n",
        "        ratio = round(ratio,1)\n",
        "        newseqs = []\n",
        "        seqs = a3m_seq_keep(msafile)\n",
        "        for seq in seqs:\n",
        "            dice = np.random.random()\n",
        "            if dice < ratio:\n",
        "                seq = list(seq)\n",
        "                for bar in lst:\n",
        "                    seq[bar] = '-'\n",
        "                seq = ''.join(seq)\n",
        "            newseqs.append(seq)\n",
        "        with open('self_generate/erase_lowFrus/erase'+str(ratio)+'_'+str(roll)+'.a3m', 'w') as fo:\n",
        "            fo.write('>101\\n')\n",
        "            fo.write('MRIILLGAPGAGKGTQAQFIMEKYGIPQISTGDMLRAAVKSGSELGKQAKDIMDAGKLVTDELVIALVKERIAQEDCRNGFLLDGFPRTIPQADAMKEAGINVDYVLEFDVPDELIVDRIVGRRVHAPSGRVYHVKFNPPKVEGKDDVTGEELTTRKDDQEETVRKRLVEYHQMTAPLIGYYSKEAEAGNTKYAKVDGTKPVAEVRADLEKILG\\n')\n",
        "            for seq in range(len(newseqs)):\n",
        "                fo.write('>'+str(seq)+'\\n')\n",
        "                fo.write(newseqs[seq])"
      ],
      "metadata": {
        "id": "BEzn2PfJZubu"
      },
      "execution_count": 17,
      "outputs": []
    },
    {
      "cell_type": "markdown",
      "source": [
        "### AF2 Prediction"
      ],
      "metadata": {
        "id": "mDgphTRKc1q_"
      }
    },
    {
      "cell_type": "code",
      "source": [
        "# Running Predictions\n",
        "# Time consuming. You can continue with our pre-generated data.\n",
        "n_recycles = 3\n",
        "model_number = 3\n",
        "seed=0\n",
        "runner = make_model_runner(model_num=model_number, recycles=n_recycles)\n",
        "# Please change to the dir you would like to run\n",
        "MSA_hints = glob('AFF2024/AdK/AdK-erasing/erase_highFrus/*.a3m')    #MSA文件\n",
        "count=0\n",
        "\n",
        "for fil in MSA_hints:\n",
        "  if os.path.exists('./predicted/'+ os.path.basename(fil).replace('.a3m','.pdb'))== False:\n",
        "    features = make_processed_feature_dict(runner, fil, seed=seed)\n",
        "    result = parse_results(runner.predict(features, random_seed=seed), features)\n",
        "    pae = np.array(result['pae'])\n",
        "    np.save('predicted/pae_' + os.path.basename(fil).replace('.a3m','_0.npy'), pae)\n",
        "    write_results(result, 'predicted/' + os.path.basename(fil).replace('.a3m','.pdb'))\n",
        "    count += 1\n",
        "\n",
        "print('finished count:'+str(count))"
      ],
      "metadata": {
        "id": "cCLxiG__c6O6"
      },
      "execution_count": null,
      "outputs": []
    },
    {
      "cell_type": "markdown",
      "source": [
        "### Results Analysis\n",
        "Here we use the distribution of RMSD to show that only the uncertainty upon HF-sites can effectively push the prediction out of the native state.\n",
        "\n",
        "这里我们使用 RMSD 分布来表明只有 HF 位点的不确定性才能有效地将预测推离原生状态。"
      ],
      "metadata": {
        "id": "qE6TwqDQdxXw"
      }
    },
    {
      "cell_type": "code",
      "source": [
        "# Collecting the results after masking HF/MF sites.\n",
        "# 屏蔽 HF/MF 站点后收集结果。\n",
        "def get_rmsds(pdbdir):\n",
        "  bigbox = []\n",
        "  openpdb = md.load_pdb('AFF2024/AdK/Frustration-Energy-space/openCA.pdb')    #结果文件\n",
        "  closedpdb = md.load_pdb('AFF2024/AdK/Frustration-Energy-space/closedCA.pdb')    #结果文件\n",
        "  allbox1 = []\n",
        "  allbox2 = []\n",
        "  for roll in [0]:\n",
        "      box1 = []\n",
        "      box2 = []\n",
        "      for num in np.arange(80):\n",
        "          num = str(num)\n",
        "          pdbfile = pdbdir + 'erase0.5_'+str(num)+ '.pdb'\n",
        "          pdb = md.load_pdb(pdbfile)\n",
        "          allpdb.append(pdb)\n",
        "          atoms = pdb.top.select('name CA')\n",
        "          pdb = pdb.atom_slice(atoms)\n",
        "          pdb.superpose(openpdb, 0)\n",
        "          d1 = md.rmsd(pdb, openpdb)\n",
        "          pdb.superpose(closedpdb, 0)\n",
        "          d2 = md.rmsd(pdb, closedpdb)\n",
        "          box1.append(d1[0])\n",
        "          box2.append(d2[0])\n",
        "      allbox1.extend(box1)\n",
        "      allbox2.extend(box2)\n",
        "  return allbox1, allbox2\n",
        "\n",
        "# Please replace the pdbdir and numbers with corresponding name and value.\n",
        "# 请用相应的名称和值替换 pdbdir 和数字。\n",
        "pdbdir = 'AFF2024/AdK/AdK-erasing/erase_highFrus_results/'    #结果文件\n",
        "allbox1_HF, allbox2_HF = get_rmsds(pdbdir)\n",
        "pdbdir = 'AFF2024/AdK/AdK-erasing/erase_lowFrus_results/'    #结果文件\n",
        "allbox1_MF, allbox2_MF = get_rmsds(pdbdir)\n",
        "\n",
        "# Visualization\n",
        "# 可视化\n",
        "plt.figure(dpi=100,figsize=(6,3))\n",
        "plt.violinplot([allbox1_HF, allbox2_HF, allbox1_MF, allbox2_MF])\n",
        "labels = ['RMSD-O_HF', 'RMSD-C_HF', 'RMSD-O_MF', 'RMSD-C_MF']\n",
        "plt.xticks([1, 2, 3, 4], labels)\n",
        "plt.xlabel('Groups')\n",
        "plt.ylabel('RMSD(nm)')\n",
        "plt.show()"
      ],
      "metadata": {
        "colab": {
          "base_uri": "https://localhost:8080/",
          "height": 311
        },
        "id": "g8yqiT5wdxJf",
        "outputId": "49f30baa-0b63-4647-eca3-8afc5d81be02"
      },
      "execution_count": 19,
      "outputs": [
        {
          "output_type": "display_data",
          "data": {
            "text/plain": [
              "<Figure size 600x300 with 1 Axes>"
            ],
            "image/png": "[encoded data removed]"
          },
          "metadata": {}
        }
      ]
    },
    {
      "cell_type": "code",
      "source": [
        "#  Please refer to our Github for the complete codes.\n",
        "#完整代码请参考我们的 Github。\n",
        "#   _____ _                 _                        _\n",
        "#  |_   _| |               | |                      | |\n",
        "#    | | | |__   __ _ _ __ | | __  _   _  ___  _   _| |\n",
        "#    | | | '_ \\ / _` | '_ \\| |/ / | | | |/ _ \\| | | | |\n",
        "#    | | | | | | (_| | | | |   <  | |_| | (_) | |_| |_|\n",
        "#    \\_/ |_| |_|\\__,_|_| |_|_|\\_\\  \\__, |\\___/ \\__,_(_)\n",
        "#                                   __/ |\n",
        "#                                  |___/"
      ],
      "metadata": {
        "id": "JP4Sf2PT7jHG"
      },
      "execution_count": null,
      "outputs": []
    }
  ]
}